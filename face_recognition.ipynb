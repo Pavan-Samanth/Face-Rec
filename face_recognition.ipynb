{
 "cells": [
  {
   "cell_type": "code",
   "execution_count": 4,
   "metadata": {},
   "outputs": [],
   "source": [
    "import cv2\n",
    "import os\n",
    "import numpy as np\n",
    "from PIL import Image\n",
    "import pyautogui\n",
    "import ctypes\n",
    "import os\n",
    "import datetime\n",
    "import time\n",
    "import sys"
   ]
  },
  {
   "cell_type": "code",
   "execution_count": 5,
   "metadata": {},
   "outputs": [],
   "source": [
    "face_cascade = cv2.CascadeClassifier(cv2.data.haarcascades + 'haarcascade_frontalface_default.xml')\n",
    "recognizer = cv2.face.LBPHFaceRecognizer_create()"
   ]
  },
  {
   "cell_type": "code",
   "execution_count": 3,
   "metadata": {},
   "outputs": [],
   "source": [
    "def check_path(path):            \n",
    "    dir = os.path.dirname(path)  \n",
    "    if not os.path.exists(dir):\n",
    "        os.makedirs(dir,exist_ok=True)\n",
    "\n",
    "vid_cam = cv2.VideoCapture(0)\n",
    "face_cascade = cv2.CascadeClassifier(cv2.data.haarcascades + 'haarcascade_frontalface_default.xml')\n",
    "face_id = 1\n",
    "count = 0\n",
    "check_path(\"dataset/\")\n",
    "\n",
    "while(True):\n",
    "    _,image_frame = vid_cam.read()       \n",
    "    \n",
    "    gray = cv2.cvtColor(image_frame, cv2.COLOR_BGR2GRAY) \n",
    "    \n",
    "    faces = face_cascade.detectMultiScale(gray, 1.4, 5)\n",
    "    \n",
    "    for (x,y,w,h) in faces:\n",
    "        cv2.rectangle(image_frame, (x,y), (x+w,y+h), (255,0,0), 2) \n",
    "        \n",
    "        count += 1              \n",
    "\n",
    "        cv2.imwrite(\"dataset/User.\" + str(face_id) + '.' + str(count) + \".jpg\", gray[y:y+h,x:x+w]) \n",
    "\n",
    "        cv2.imshow('Creating Dataset', image_frame)\n",
    "\n",
    "    if cv2.waitKey(100) & 0xFF == 27:                  \n",
    "        break\n",
    "\n",
    "    elif count>100:                                    \n",
    "        break\n",
    "\n",
    "vid_cam.release()                                    \n",
    "\n",
    "cv2.destroyAllWindows()                            "
   ]
  },
  {
   "cell_type": "code",
   "execution_count": null,
   "metadata": {},
   "outputs": [],
   "source": [
    "def assure_path_exists(path):          \n",
    "    dir = os.path.dirname(path)\n",
    "    if not os.path.exists(dir):\n",
    "        os.makedirs(dir)\n",
    "\n",
    "\n",
    "def getImagesAndLabels(path):\n",
    "    imagePaths = [os.path.join(path,f) for f in os.listdir(path)]\n",
    "    faceSamples = []\n",
    "    ids = []\n",
    "    for imagePath in imagePaths:\n",
    "        PIL_img = Image.open(imagePath).convert('L')\n",
    "        img_numpy = np.array(PIL_img,'uint8')\n",
    "        id = int(os.path.split(imagePath)[-1].split(\".\")[1])\n",
    "        faces = face_cascade.detectMultiScale(img_numpy)\n",
    "        for (x,y,w,h) in faces:\n",
    "            faceSamples.append(img_numpy[y:y+h,x:x+w])\n",
    "            ids.append(id)\n",
    "\n",
    "\n",
    "    return faceSamples,ids  \n",
    "\n",
    "faces,ids = getImagesAndLabels('dataset/')\n",
    "\n",
    "recognizer.train(faces, np.array(ids))\n",
    "\n",
    "assure_path_exists('trainer/') \n",
    "recognizer.save('trainer/trainer.yml')\n"
   ]
  },
  {
   "cell_type": "code",
   "execution_count": 9,
   "metadata": {},
   "outputs": [
    {
     "ename": "SystemExit",
     "evalue": "",
     "output_type": "error",
     "traceback": [
      "An exception has occurred, use %tb to see the full traceback.\n",
      "\u001b[1;31mSystemExit\u001b[0m\n"
     ]
    },
    {
     "name": "stderr",
     "output_type": "stream",
     "text": [
      "c:\\Users\\pavan\\anaconda3\\lib\\site-packages\\IPython\\core\\interactiveshell.py:3377: UserWarning: To exit: use 'exit', 'quit', or Ctrl-D.\n",
      "  warn(\"To exit: use 'exit', 'quit', or Ctrl-D.\", stacklevel=1)\n"
     ]
    }
   ],
   "source": [
    "recognizer.read('trainer/trainer.yml')\n",
    "cam = cv2.VideoCapture(0)\n",
    "now = datetime.datetime.now().second\n",
    "counter_wrong = 0 \n",
    "counter_correct = 0\n",
    "while True:\n",
    "    now1 = datetime.datetime.now()\n",
    "    now1 = now1.second\n",
    "    if(now1 > now + 10):\n",
    "        cam.release()\n",
    "        cv2.destroyAllWindows()\n",
    "        ctypes.windll.user32.LockWorkStation()\n",
    "        sys.exit()\n",
    "\n",
    "    ret, im =cam.read()\n",
    "    \n",
    "    gray = cv2.cvtColor(im,cv2.COLOR_BGR2GRAY)\n",
    "\n",
    "    faces = face_cascade.detectMultiScale(gray, 1.3,5)\n",
    "\n",
    "    for(x,y,w,h) in faces:\n",
    "\n",
    "        cv2.rectangle(im, (x-20,y-20), (x+w+20,y+h+20), (0,255,0), 4)\n",
    "\n",
    "        Id, confidence = recognizer.predict(gray[y:y+h,x:x+w])\n",
    "        if(confidence>80):\n",
    "            counter_wrong += 1\n",
    "            print(\"Wrong\")\n",
    "            Id = \"Unknown + {0:.2f}%\".format(round(100 - confidence, 2)) \n",
    "            print(confidence)\n",
    "            print(\"counter_wrong - \" + str(counter_wrong))\n",
    "            cv2.rectangle(im, (x-22,y-90), (x+w+22, y-22), (0,0,255), -1)\n",
    "            cv2.putText(im, str(Id), (x,y-40), cv2.FONT_HERSHEY_COMPLEX_SMALL, 1, (0,0,0), 2)\n",
    "\n",
    "        else:\n",
    "            Id = \"Khan + {0:.2f}%\".format(round(100 - confidence, 2)) \n",
    "            print(\"Verified\")\n",
    "            print(confidence)\n",
    "            cv2.rectangle(im, (x-22,y-90), (x+w+22, y-22), (255,255,255), -1)\n",
    "            cv2.putText(im, str(Id), (x,y-40), cv2.FONT_HERSHEY_COMPLEX_SMALL, 1, (0,0,0), 2)\n",
    "\n",
    "        if(counter_wrong == 3):\n",
    "            pyautogui.moveTo(48,748)\n",
    "            pyautogui.click(48,748)\n",
    "            pyautogui.typewrite(\"Hello Stranger!\")\n",
    "            cam.release()\n",
    "            cv2.destroyAllWindows()\n",
    "            ctypes.windll.user32.LockWorkStation()\n",
    "            sys.exit()\n",
    "        \n",
    "        if(counter_wrong == 6):\n",
    "            cam.release()\n",
    "            cv2.destroyAllWindows()\n",
    "            ctypes.windll.user32.LockWorkStation()\n",
    "            sys.exit()\n",
    "\n",
    "    cv2.imshow(\"webcam\",im)\n",
    "\n",
    "    if cv2.waitKey(10) & 0xFF == ord('q'):     \n",
    "        break\n",
    "\n",
    "cam.release()\n",
    "\n",
    "cv2.destroyAllWindows()"
   ]
  },
  {
   "cell_type": "code",
   "execution_count": null,
   "metadata": {},
   "outputs": [],
   "source": []
  },
  {
   "cell_type": "code",
   "execution_count": null,
   "metadata": {},
   "outputs": [],
   "source": []
  }
 ],
 "metadata": {
  "kernelspec": {
   "display_name": "Python 3.9.12 ('base')",
   "language": "python",
   "name": "python3"
  },
  "language_info": {
   "codemirror_mode": {
    "name": "ipython",
    "version": 3
   },
   "file_extension": ".py",
   "mimetype": "text/x-python",
   "name": "python",
   "nbconvert_exporter": "python",
   "pygments_lexer": "ipython3",
   "version": "3.9.12"
  },
  "orig_nbformat": 4,
  "vscode": {
   "interpreter": {
    "hash": "a60f3e5221f9551b041376128a51fefb3088c8acc3789c81913f07bab024913d"
   }
  }
 },
 "nbformat": 4,
 "nbformat_minor": 2
}
